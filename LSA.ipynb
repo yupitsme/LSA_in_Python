{
 "cells": [
  {
   "cell_type": "code",
   "execution_count": 1,
   "metadata": {
    "collapsed": true
   },
   "outputs": [],
   "source": [
    "from sklearn.datasets import fetch_20newsgroups\n",
    "categories = ['rec.sport.baseball']\n",
    "dataset = fetch_20newsgroups(subset='all',shuffle=True, random_state=42, categories=categories)\n",
    "corpus=dataset.data"
   ]
  },
  {
   "cell_type": "code",
   "execution_count": 2,
   "metadata": {
    "collapsed": true
   },
   "outputs": [],
   "source": [
    "from bs4 import BeautifulSoup\n",
    "import nltk\n",
    "from nltk.corpus import stopwords\n",
    "from sklearn.feature_extraction.text import TfidfVectorizer\n",
    "from sklearn.decomposition import TruncatedSVD"
   ]
  },
  {
   "cell_type": "code",
   "execution_count": 3,
   "metadata": {
    "collapsed": false
   },
   "outputs": [
    {
     "name": "stdout",
     "output_type": "stream",
     "text": [
      "[nltk_data] Downloading package stopwords to\n",
      "[nltk_data]     C:\\Users\\SyedAbbas\\AppData\\Roaming\\nltk_data...\n",
      "[nltk_data]   Package stopwords is already up-to-date!\n"
     ]
    },
    {
     "data": {
      "text/plain": [
       "True"
      ]
     },
     "execution_count": 3,
     "metadata": {},
     "output_type": "execute_result"
    }
   ],
   "source": [
    "nltk.download('stopwords')"
   ]
  },
  {
   "cell_type": "code",
   "execution_count": 4,
   "metadata": {
    "collapsed": true
   },
   "outputs": [],
   "source": [
    "stopset = set(stopwords.words('english'))\n",
    "stopset.update(['lt','p','/p','br','amp','quot','field','font','normal','span','0px','rgb','style','51', \n",
    "                'spacing','text','helvetica','size','family', 'space', 'arial', 'height', 'indent', 'letter'\n",
    "                'line','none','sans','serif','transform','line','variant','weight','times', 'new','strong', 'video', 'title'\n",
    "                'white','word','letter', 'roman','0pt','16','color','12','14','21', 'neue', 'apple', 'class',  ])"
   ]
  },
  {
   "cell_type": "code",
   "execution_count": 5,
   "metadata": {
    "collapsed": true
   },
   "outputs": [],
   "source": [
    "vectorizer = TfidfVectorizer(stop_words=stopset,use_idf=True, ngram_range=(1, 3))\n",
    "X = vectorizer.fit_transform(corpus)"
   ]
  },
  {
   "cell_type": "code",
   "execution_count": 6,
   "metadata": {
    "collapsed": false
   },
   "outputs": [
    {
     "data": {
      "text/plain": [
       "<1x190159 sparse matrix of type '<type 'numpy.float64'>'\n",
       "\twith 235 stored elements in Compressed Sparse Row format>"
      ]
     },
     "execution_count": 6,
     "metadata": {},
     "output_type": "execute_result"
    }
   ],
   "source": [
    "X[0]"
   ]
  },
  {
   "cell_type": "code",
   "execution_count": 7,
   "metadata": {
    "collapsed": false
   },
   "outputs": [
    {
     "name": "stdout",
     "output_type": "stream",
     "text": [
      "  (0, 51460)\t0.0734463096625\n",
      "  (0, 189431)\t0.0734463096625\n",
      "  (0, 28954)\t0.0734463096625\n",
      "  (0, 146556)\t0.0734463096625\n",
      "  (0, 64407)\t0.0734463096625\n",
      "  (0, 77917)\t0.0734463096625\n",
      "  (0, 133158)\t0.0734463096625\n",
      "  (0, 103424)\t0.0734463096625\n",
      "  (0, 66793)\t0.0734463096625\n",
      "  (0, 114520)\t0.0734463096625\n",
      "  (0, 163261)\t0.0734463096625\n",
      "  (0, 181100)\t0.0734463096625\n",
      "  (0, 119624)\t0.0734463096625\n",
      "  (0, 64543)\t0.0734463096625\n",
      "  (0, 103918)\t0.0734463096625\n",
      "  (0, 95532)\t0.0734463096625\n",
      "  (0, 133073)\t0.0734463096625\n",
      "  (0, 143720)\t0.0734463096625\n",
      "  (0, 98126)\t0.0734463096625\n",
      "  (0, 115161)\t0.0734463096625\n",
      "  (0, 165620)\t0.0734463096625\n",
      "  (0, 59664)\t0.0734463096625\n",
      "  (0, 51500)\t0.0734463096625\n",
      "  (0, 35721)\t0.0734463096625\n",
      "  (0, 64533)\t0.0734463096625\n",
      "  :\t:\n",
      "  (0, 143954)\t0.0551931192048\n",
      "  (0, 122291)\t0.11038623841\n",
      "  (0, 37510)\t0.0989842910659\n",
      "  (0, 40680)\t0.104524831508\n",
      "  (0, 16529)\t0.0734463096625\n",
      "  (0, 94943)\t0.11038623841\n",
      "  (0, 25779)\t0.0160794683389\n",
      "  (0, 100805)\t0.010248916482\n",
      "  (0, 163850)\t0.0606840380211\n",
      "  (0, 48144)\t0.0387972930629\n",
      "  (0, 175254)\t0.0391426583255\n",
      "  (0, 114318)\t0.0606840380211\n",
      "  (0, 175290)\t0.0179368326547\n",
      "  (0, 159024)\t0.0372269139097\n",
      "  (0, 29476)\t0.0306118463788\n",
      "  (0, 121678)\t0.0102695385529\n",
      "  (0, 68334)\t0.124508834349\n",
      "  (0, 51382)\t0.160868220155\n",
      "  (0, 137192)\t0.0126673855948\n",
      "  (0, 161824)\t0.0101872995629\n",
      "  (0, 60164)\t0.023728059338\n",
      "  (0, 38750)\t0.0505117257066\n",
      "  (0, 38760)\t0.0505117257066\n",
      "  (0, 99152)\t0.0494921455329\n",
      "  (0, 186930)\t0.0734463096625\n"
     ]
    }
   ],
   "source": [
    "print X[0]"
   ]
  },
  {
   "cell_type": "code",
   "execution_count": 8,
   "metadata": {
    "collapsed": false
   },
   "outputs": [
    {
     "data": {
      "text/plain": [
       "TruncatedSVD(algorithm='randomized', n_components=27, n_iter=100,\n",
       "       random_state=None, tol=0.0)"
      ]
     },
     "execution_count": 8,
     "metadata": {},
     "output_type": "execute_result"
    }
   ],
   "source": [
    "lsa = TruncatedSVD(n_components=27, n_iter=100)\n",
    "lsa.fit(X)"
   ]
  },
  {
   "cell_type": "code",
   "execution_count": 9,
   "metadata": {
    "collapsed": false
   },
   "outputs": [
    {
     "data": {
      "text/plain": [
       "array([ 0.01601607,  0.00499136,  0.0008138 , ...,  0.00102587,\n",
       "        0.00102587,  0.00102587])"
      ]
     },
     "execution_count": 9,
     "metadata": {},
     "output_type": "execute_result"
    }
   ],
   "source": [
    "lsa.components_[0]"
   ]
  },
  {
   "cell_type": "code",
   "execution_count": 10,
   "metadata": {
    "collapsed": false
   },
   "outputs": [
    {
     "name": "stdout",
     "output_type": "stream",
     "text": [
      "Concept 0:\n",
      "edu\n",
      "com\n",
      "year\n",
      "writes\n",
      "team\n",
      "would\n",
      "game\n",
      "article\n",
      "re\n",
      "cs\n",
      " \n",
      "Concept 1:\n",
      "subject re\n",
      "jewish\n",
      "games\n",
      "00 00 cleveland\n",
      "anyone\n",
      "good\n",
      "one\n",
      "well\n",
      "00 00 000\n",
      "00 00 00\n",
      " \n",
      "Concept 2:\n",
      "runs\n",
      "players\n",
      "year\n",
      "better\n",
      "cs\n",
      "team\n",
      "aix\n",
      "like\n",
      "morris\n",
      "ibm\n",
      " \n",
      "Concept 3:\n",
      "team\n",
      "hit\n",
      "year\n",
      "win\n",
      "better\n",
      "may\n",
      "look\n",
      "think\n",
      "second\n",
      "subject\n",
      " \n",
      "Concept 4:\n",
      "00\n",
      "00 00\n",
      "edu\n",
      "baseball\n",
      "00 00 00\n",
      "would\n",
      "00 00 000\n",
      "00 00 american\n",
      "runs\n",
      "nntp posting\n",
      " \n",
      "Concept 5:\n",
      "00\n",
      "00 00\n",
      "host\n",
      "get\n",
      "hitter\n",
      "think\n",
      "com\n",
      "good\n",
      "re\n",
      "00 00 01\n",
      " \n",
      "Concept 6:\n",
      "00\n",
      "00 00\n",
      "cs\n",
      "writes\n",
      "better\n",
      "alomar\n",
      "hirschbeck\n",
      "team\n",
      "00 00 01\n",
      "organization university\n",
      " \n",
      "Concept 7:\n",
      "last year\n",
      "players\n",
      "10\n",
      "clutch\n",
      "first\n",
      "better\n",
      "00 00 baltimore\n",
      "netcom\n",
      "think\n",
      "ve\n",
      " \n",
      "Concept 8:\n",
      "00\n",
      "com\n",
      "one\n",
      "get\n",
      "lines\n",
      "00 00\n",
      "like\n",
      "edu\n",
      "know\n",
      "posting\n",
      " \n",
      "Concept 9:\n",
      "00\n",
      "edu\n",
      "organization\n",
      "season\n",
      "nntp\n",
      "00 00\n",
      "00 00 gmt\n",
      "00 00 cleveland\n",
      "netcom com\n",
      "00 00 chicago\n",
      " \n",
      "Concept 10:\n",
      "would\n",
      "game\n",
      "last\n",
      "00 00 01\n",
      "subject re\n",
      "cs\n",
      "subject\n",
      "ca\n",
      "even\n",
      "last year\n",
      " \n",
      "Concept 11:\n",
      "ca\n",
      "subject re\n",
      "first\n",
      "host\n",
      "team\n",
      "posting\n",
      "nntp posting host\n",
      "posting host\n",
      "come\n",
      "well\n",
      " \n",
      "Concept 12:\n",
      "cs\n",
      "get\n",
      "also\n",
      "league\n",
      "many\n",
      "nntp\n",
      "well\n",
      "pitcher\n",
      "00 00 baltimore\n",
      "nntp posting\n",
      " \n",
      "Concept 13:\n",
      "university\n",
      "team\n",
      "00 00 chicago\n",
      "00 00 colorado\n",
      "00 00 01\n",
      "mike\n",
      "win\n",
      "year\n",
      "going\n",
      "give\n",
      " \n",
      "Concept 14:\n",
      "games\n",
      "subject\n",
      "baseball\n",
      "know\n",
      "even\n",
      "00 00 baltimore\n",
      "morris\n",
      "well\n",
      "last year\n",
      "won\n",
      " \n",
      "Concept 15:\n",
      "writes\n",
      "00 00 00\n",
      "university\n",
      "games\n",
      "two\n",
      "subject\n",
      "three\n",
      "players\n",
      "morris\n",
      "like\n",
      " \n",
      "Concept 16:\n",
      "year\n",
      "com\n",
      "first\n",
      "last\n",
      "team\n",
      "00 00 000\n",
      "much\n",
      "article\n",
      "like\n",
      "runs\n",
      " \n",
      "Concept 17:\n",
      "year\n",
      "well\n",
      "baseball\n",
      "games\n",
      "good\n",
      "say\n",
      "pitching\n",
      "posting\n",
      "00 00 01\n",
      "00 00 colorado\n",
      " \n",
      "Concept 18:\n",
      "would\n",
      "year\n",
      "one\n",
      "lines\n",
      "00 00 baltimore\n",
      "two\n",
      "win\n",
      "00 00 gmt\n",
      "university\n",
      "like\n",
      " \n",
      "Concept 19:\n",
      "com\n",
      "writes\n",
      "00 00 baltimore\n",
      "better\n",
      "00 00 american\n",
      "subject re\n",
      "nntp posting\n",
      "organization\n",
      "would\n",
      "year\n",
      " \n",
      "Concept 20:\n",
      "baseball\n",
      "hit\n",
      "00 00 american\n",
      "get\n",
      "00 00 01\n",
      "distribution\n",
      "00 00 cleveland\n",
      "organization university\n",
      "00 00 colorado\n",
      "nntp\n",
      " \n",
      "Concept 21:\n",
      "players\n",
      "nntp\n",
      "re\n",
      "game\n",
      "last\n",
      "00 00 colorado\n",
      "nntp posting host\n",
      "posting host\n",
      "university\n",
      "00 00 gmt\n",
      " \n",
      "Concept 22:\n",
      "com\n",
      "organization\n",
      "team\n",
      "would\n",
      "think\n",
      "won\n",
      "baseball\n",
      "first\n",
      "organization university\n",
      "two\n",
      " \n",
      "Concept 23:\n",
      "00 00 american\n",
      "good\n",
      "time\n",
      "world\n",
      "even\n",
      "league\n",
      "game\n",
      "hit\n",
      "last\n",
      "first\n",
      " \n",
      "Concept 24:\n",
      "writes\n",
      "00 00 colorado\n",
      "first\n",
      "subject\n",
      "one\n",
      "like\n",
      "00 00 chicago\n",
      "would\n",
      "way\n",
      "10\n",
      " \n",
      "Concept 25:\n",
      "year\n",
      "00 00 cleveland\n",
      "subject re\n",
      "posting\n",
      "university\n",
      "00 00 gmt\n",
      "think\n",
      "get\n",
      "cs\n",
      "one\n",
      " \n",
      "Concept 26:\n",
      "university\n",
      "one\n",
      "see\n",
      "better\n",
      "00 00 000\n",
      "get\n",
      "game\n",
      "roger\n",
      "good\n",
      "season\n",
      " \n"
     ]
    }
   ],
   "source": [
    "terms = vectorizer.get_feature_names()\n",
    "for i, comp in enumerate(lsa.components_): \n",
    "    termsInComp = zip (terms,comp)\n",
    "    sortedTerms =  sorted(termsInComp, key=lambda x: x[1], reverse=True) [:10]\n",
    "    print \"Concept %d:\" % i\n",
    "    for term in sortedTerms:\n",
    "        print term[0]\n",
    "    print \" \""
   ]
  },
  {
   "cell_type": "code",
   "execution_count": null,
   "metadata": {
    "collapsed": true
   },
   "outputs": [],
   "source": []
  }
 ],
 "metadata": {
  "kernelspec": {
   "display_name": "Python 2",
   "language": "python",
   "name": "python2"
  },
  "language_info": {
   "codemirror_mode": {
    "name": "ipython",
    "version": 2
   },
   "file_extension": ".py",
   "mimetype": "text/x-python",
   "name": "python",
   "nbconvert_exporter": "python",
   "pygments_lexer": "ipython2",
   "version": "2.7.10"
  }
 },
 "nbformat": 4,
 "nbformat_minor": 0
}
